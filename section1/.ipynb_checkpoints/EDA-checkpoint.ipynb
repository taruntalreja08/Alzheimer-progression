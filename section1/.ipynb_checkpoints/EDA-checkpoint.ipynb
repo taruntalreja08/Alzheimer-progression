{
 "cells": [
  {
   "cell_type": "markdown",
   "metadata": {
    "colab_type": "text",
    "id": "l4bVdD4qOAvo"
   },
   "source": [
    "# Classification of Alzheimer's Diseases using Quantification of HippoCampal Volume\n",
    "\n",
    "### Exploratory Data Analysis - Section 1\n",
    "\n",
    "This task involves exploratory data analysis of given 3D images including slicing, visualisation, and data understanding strategies.\n",
    "\n",
    "# Preparing the dataset for hippocampus segmentation\n",
    "\n",
    "In this notebook you will use the skills and methods that we have talked about during our EDA Lesson to prepare the hippocampus dataset using Python. Follow the Notebook, writing snippets of code where directed so using Task comments, similar to the one below, which expects you to put the proper imports in place. Write your code directly in the cell with TASK comment. Feel free to add cells as you see fit, but please make sure that code that performs that tasked activity sits in the same cell as the Task comment."
   ]
  },
  {
   "cell_type": "code",
   "execution_count": 8,
   "metadata": {
    "colab": {},
    "colab_type": "code",
    "id": "AlK3B15vNxab"
   },
   "outputs": [],
   "source": [
    "# TASK: Import the following libraries that we will use: nibabel, matplotlib, numpy\n",
    "import nibabel as nib\n",
    "import os\n",
    "import numpy as np\n",
    "import matplotlib.image as mpimg\n",
    "import matplotlib.pyplot as plt"
   ]
  },
  {
   "cell_type": "code",
   "execution_count": 12,
   "metadata": {
    "colab": {
     "base_uri": "https://localhost:8080/",
     "height": 34
    },
    "colab_type": "code",
    "id": "g7qj795jN6Lt",
    "outputId": "bcb756be-ef9c-42ca-ccbd-93a00fcaf014"
   },
   "outputs": [
    {
     "name": "stdout",
     "output_type": "stream",
     "text": [
      "(35, 51, 35)\n",
      "(35, 51, 35)\n"
     ]
    }
   ],
   "source": [
    "# TASK: Your data sits in directory /data/TrainingSet.\n",
    "# Load an image and a segmentation mask into variables called image and label\n",
    "\n",
    "image = nib.load(\"../data/TrainingSet/images/hippocampus_001.nii.gz\")\n",
    "print(image.shape)\n",
    "label = nib.load(\"../data/TrainingSet/labels/hippocampus_001.nii.gz\")\n",
    "print(label.shape)\n"
   ]
  },
  {
   "cell_type": "markdown",
   "metadata": {
    "colab_type": "text",
    "id": "PhBureeaTwfd"
   },
   "source": [
    "We are now going to display the slices from the respective image and label."
   ]
  },
  {
   "cell_type": "code",
   "execution_count": 13,
   "metadata": {
    "colab": {},
    "colab_type": "code",
    "id": "0pNaM-1bTvc7"
   },
   "outputs": [],
   "source": [
    "# Nibabel can present your image data as a Numpy array by calling the method get_fdata()\n",
    "# The array will contain a multi-dimensional Numpy array with numerical values representing voxel intensities. \n",
    "# In our case, images and labels are 3-dimensional, so get_fdata will return a 3-dimensional array. You can verify this\n",
    "# by accessing the .shape attribute. What are the dimensions of the input arrays?\n",
    "\n",
    "# TASK: using matplotlib, visualize a few slices from the dataset, along with their labels. \n",
    "# You can adjust plot sizes like so if you find them too small:\n",
    "# plt.rcParams[\"figure.figsize\"] = (10,10)\n",
    "\n",
    "def show_slices(slices):\n",
    "\t\"\"\" Function to display row of image slices \"\"\"\n",
    "\tfig, axes = plt.subplots(1, len(slices))\n",
    "\tfor i, slice in enumerate(slices):\n",
    "\t\taxes[i].imshow(slice.T, cmap=\"gray\", origin=\"lower\")"
   ]
  },
  {
   "cell_type": "code",
   "execution_count": 14,
   "metadata": {
    "colab": {
     "base_uri": "https://localhost:8080/",
     "height": 257
    },
    "colab_type": "code",
    "id": "1nyE83Q0T3kk",
    "outputId": "8d245ff7-a10d-46bf-c8d8-8e19398571be"
   },
   "outputs": [],
   "source": [
    "slice_a = label.get_fdata()[26, :, :]\n",
    "slice_b =  label.get_fdata()[:, 30, :]\n",
    "slice_c =  label.get_fdata()[:, :, 16]\n",
    "show_slices([slice_a, slice_b, slice_c])\n",
    "plt.suptitle(\"Label Slices\")  \n",
    "plt.show()"
   ]
  },
  {
   "cell_type": "code",
   "execution_count": 15,
   "metadata": {
    "colab": {
     "base_uri": "https://localhost:8080/",
     "height": 257
    },
    "colab_type": "code",
    "id": "YlUYPlCaUClg",
    "outputId": "b4e80049-a289-4829-f7bf-6cde027f9a9c"
   },
   "outputs": [
    {
     "name": "stdout",
     "output_type": "stream",
     "text": [
      "[[[ 42.  29.  28. ...  95. 100.  98.]\n",
      "  [ 37.  30.  27. ... 101. 100.  97.]\n",
      "  [ 30.  27.  27. ... 101.  99.  99.]\n",
      "  ...\n",
      "  [101.  93.  90. ...  28.  34.  35.]\n",
      "  [ 92.  88.  84. ...  41.  39.  44.]\n",
      "  [ 63.  65.  60. ...  43.  45.  54.]]\n",
      "\n",
      " [[ 39.  30.  33. ... 101. 101. 100.]\n",
      "  [ 38.  30.  31. ... 103. 100. 101.]\n",
      "  [ 42.  29.  28. ... 103. 106. 100.]\n",
      "  ...\n",
      "  [100. 100. 102. ...  22.  33.  36.]\n",
      "  [ 98.  99. 105. ...  26.  36.  41.]\n",
      "  [ 91.  90.  90. ...  29.  38.  44.]]\n",
      "\n",
      " [[ 43.  35.  38. ... 110. 110.  98.]\n",
      "  [ 49.  35.  36. ... 105. 106. 100.]\n",
      "  [ 43.  30.  34. ... 102. 105.  99.]\n",
      "  ...\n",
      "  [ 67.  84.  96. ...  17.  27.  35.]\n",
      "  [ 81.  94.  93. ...  14.  29.  37.]\n",
      "  [ 98. 102.  97. ...  28.  30.  36.]]\n",
      "\n",
      " ...\n",
      "\n",
      " [[ 82.  81.  79. ...   8.  12.  18.]\n",
      "  [ 84.  78.  81. ...   9.  12.  16.]\n",
      "  [ 81.  81.  81. ...  12.  20.  34.]\n",
      "  ...\n",
      "  [ 47.  45.  47. ...  50.  37.  32.]\n",
      "  [ 38.  36.  37. ...  50.  44.  41.]\n",
      "  [ 46.  47.  40. ...  52.  50.  51.]]\n",
      "\n",
      " [[ 91.  89.  87. ...   7.   5.   6.]\n",
      "  [ 91.  90.  91. ...   6.   6.   5.]\n",
      "  [ 89.  90.  89. ...  11.  10.  17.]\n",
      "  ...\n",
      "  [ 56.  48.  45. ...  39.  21.  16.]\n",
      "  [ 81.  72.  70. ...  34.  24.  20.]\n",
      "  [ 79.  79.  84. ...  35.  33.  32.]]\n",
      "\n",
      " [[ 89.  88.  87. ...   6.   8.   8.]\n",
      "  [ 88.  88.  91. ...  10.  15.  16.]\n",
      "  [ 85.  85.  87. ...  18.  16.  16.]\n",
      "  ...\n",
      "  [ 42.  29.  30. ...  14.  10.   8.]\n",
      "  [ 95.  83.  77. ...  13.   7.   4.]\n",
      "  [122. 123. 136. ...  18.  12.  12.]]]\n",
      "(35, 51, 35)\n"
     ]
    }
   ],
   "source": [
    "slice_a = image.get_fdata()[26, :, :]\n",
    "slice_b =  image.get_fdata()[:, 30, :]\n",
    "slice_c =  image.get_fdata()[:, :, 16]\n",
    "show_slices([slice_a, slice_b, slice_c])\n",
    "plt.suptitle(\"Image Slices\")  \n",
    "plt.show()\n",
    "\n",
    "print(image.get_fdata())\n",
    "print(image.get_fdata().shape)"
   ]
  },
  {
   "cell_type": "code",
   "execution_count": 16,
   "metadata": {
    "colab": {
     "base_uri": "https://localhost:8080/",
     "height": 268
    },
    "colab_type": "code",
    "id": "27XcjA-bUbkW",
    "outputId": "ac824e84-e020-49f5-da60-071d96d82012"
   },
   "outputs": [
    {
     "ename": "FileNotFoundError",
     "evalue": "No such file or no access: 'image_001.nii.gz'",
     "output_type": "error",
     "traceback": [
      "\u001b[0;31m---------------------------------------------------------------------------\u001b[0m",
      "\u001b[0;31mFileNotFoundError\u001b[0m                         Traceback (most recent call last)",
      "\u001b[0;32m<ipython-input-16-40dc55180b86>\u001b[0m in \u001b[0;36m<module>\u001b[0;34m()\u001b[0m\n\u001b[0;32m----> 1\u001b[0;31m \u001b[0mimage1\u001b[0m \u001b[0;34m=\u001b[0m \u001b[0mnib\u001b[0m\u001b[0;34m.\u001b[0m\u001b[0mload\u001b[0m\u001b[0;34m(\u001b[0m\u001b[0;34m\"image_001.nii.gz\"\u001b[0m\u001b[0;34m)\u001b[0m\u001b[0;34m\u001b[0m\u001b[0m\n\u001b[0m\u001b[1;32m      2\u001b[0m \u001b[0mlabel1\u001b[0m\u001b[0;34m=\u001b[0m \u001b[0mnib\u001b[0m\u001b[0;34m.\u001b[0m\u001b[0mload\u001b[0m\u001b[0;34m(\u001b[0m\u001b[0;34m\"label_001.nii.gz\"\u001b[0m\u001b[0;34m)\u001b[0m\u001b[0;34m\u001b[0m\u001b[0m\n\u001b[1;32m      3\u001b[0m \u001b[0mf\u001b[0m\u001b[0;34m,\u001b[0m \u001b[0maxarr\u001b[0m \u001b[0;34m=\u001b[0m \u001b[0mplt\u001b[0m\u001b[0;34m.\u001b[0m\u001b[0msubplots\u001b[0m\u001b[0;34m(\u001b[0m\u001b[0;36m2\u001b[0m\u001b[0;34m,\u001b[0m\u001b[0;36m2\u001b[0m\u001b[0;34m)\u001b[0m\u001b[0;34m\u001b[0m\u001b[0m\n\u001b[1;32m      4\u001b[0m \u001b[0maxarr\u001b[0m\u001b[0;34m[\u001b[0m\u001b[0;36m0\u001b[0m\u001b[0;34m,\u001b[0m\u001b[0;36m0\u001b[0m\u001b[0;34m]\u001b[0m\u001b[0;34m.\u001b[0m\u001b[0mimshow\u001b[0m\u001b[0;34m(\u001b[0m\u001b[0mimage\u001b[0m\u001b[0;34m.\u001b[0m\u001b[0mget_fdata\u001b[0m\u001b[0;34m(\u001b[0m\u001b[0;34m)\u001b[0m\u001b[0;34m[\u001b[0m\u001b[0;36m26\u001b[0m\u001b[0;34m,\u001b[0m \u001b[0;34m:\u001b[0m\u001b[0;34m,\u001b[0m \u001b[0;34m:\u001b[0m\u001b[0;34m]\u001b[0m\u001b[0;34m)\u001b[0m\u001b[0;34m\u001b[0m\u001b[0m\n\u001b[1;32m      5\u001b[0m \u001b[0maxarr\u001b[0m\u001b[0;34m[\u001b[0m\u001b[0;36m0\u001b[0m\u001b[0;34m,\u001b[0m\u001b[0;36m1\u001b[0m\u001b[0;34m]\u001b[0m\u001b[0;34m.\u001b[0m\u001b[0mimshow\u001b[0m\u001b[0;34m(\u001b[0m\u001b[0mlabel1\u001b[0m\u001b[0;34m.\u001b[0m\u001b[0mget_fdata\u001b[0m\u001b[0;34m(\u001b[0m\u001b[0;34m)\u001b[0m\u001b[0;34m[\u001b[0m\u001b[0;36m26\u001b[0m\u001b[0;34m,\u001b[0m \u001b[0;34m:\u001b[0m\u001b[0;34m,\u001b[0m \u001b[0;34m:\u001b[0m\u001b[0;34m]\u001b[0m\u001b[0;34m)\u001b[0m\u001b[0;34m\u001b[0m\u001b[0m\n",
      "\u001b[0;32m/Users/taruntalreja/Library/Python/2.7/lib/python/site-packages/nibabel/loadsave.pyc\u001b[0m in \u001b[0;36mload\u001b[0;34m(filename, **kwargs)\u001b[0m\n\u001b[1;32m     40\u001b[0m         \u001b[0mstat_result\u001b[0m \u001b[0;34m=\u001b[0m \u001b[0mos\u001b[0m\u001b[0;34m.\u001b[0m\u001b[0mstat\u001b[0m\u001b[0;34m(\u001b[0m\u001b[0mfilename\u001b[0m\u001b[0;34m)\u001b[0m\u001b[0;34m\u001b[0m\u001b[0m\n\u001b[1;32m     41\u001b[0m     \u001b[0;32mexcept\u001b[0m \u001b[0mOSError\u001b[0m\u001b[0;34m:\u001b[0m\u001b[0;34m\u001b[0m\u001b[0m\n\u001b[0;32m---> 42\u001b[0;31m         \u001b[0;32mraise\u001b[0m \u001b[0mFileNotFoundError\u001b[0m\u001b[0;34m(\u001b[0m\u001b[0;34m\"No such file or no access: '%s'\"\u001b[0m \u001b[0;34m%\u001b[0m \u001b[0mfilename\u001b[0m\u001b[0;34m)\u001b[0m\u001b[0;34m\u001b[0m\u001b[0m\n\u001b[0m\u001b[1;32m     43\u001b[0m     \u001b[0;32mif\u001b[0m \u001b[0mstat_result\u001b[0m\u001b[0;34m.\u001b[0m\u001b[0mst_size\u001b[0m \u001b[0;34m<=\u001b[0m \u001b[0;36m0\u001b[0m\u001b[0;34m:\u001b[0m\u001b[0;34m\u001b[0m\u001b[0m\n\u001b[1;32m     44\u001b[0m         \u001b[0;32mraise\u001b[0m \u001b[0mImageFileError\u001b[0m\u001b[0;34m(\u001b[0m\u001b[0;34m\"Empty file: '%s'\"\u001b[0m \u001b[0;34m%\u001b[0m \u001b[0mfilename\u001b[0m\u001b[0;34m)\u001b[0m\u001b[0;34m\u001b[0m\u001b[0m\n",
      "\u001b[0;31mFileNotFoundError\u001b[0m: No such file or no access: 'image_001.nii.gz'"
     ]
    }
   ],
   "source": [
    "image1 = nib.load(\"image_001.nii.gz\")\n",
    "label1= nib.load(\"label_001.nii.gz\")\n",
    "f, axarr = plt.subplots(2,2)\n",
    "axarr[0,0].imshow(image.get_fdata()[26, :, :])\n",
    "axarr[0,1].imshow(label1.get_fdata()[26, :, :])\n",
    "axarr[1,0].imshow(image1.get_fdata()[26, :, :])\n",
    "axarr[1,1].imshow(label1.get_fdata()[26, :, :])\n",
    "plt.show()\n"
   ]
  },
  {
   "cell_type": "code",
   "execution_count": 18,
   "metadata": {
    "colab": {
     "base_uri": "https://localhost:8080/",
     "height": 607
    },
    "colab_type": "code",
    "id": "P0uukarfVUpj",
    "outputId": "8f1b1eb6-83d1-47d1-ebf8-68a10e128c56"
   },
   "outputs": [],
   "source": [
    "#print(image1.get_fdata().shape)\n",
    "A = label.get_fdata()"
   ]
  },
  {
   "cell_type": "code",
   "execution_count": 19,
   "metadata": {},
   "outputs": [],
   "source": [
    "# Stand out suggestion: use one of the simple Volume Rendering algorithms that we've\n",
    "# implemented in one of our earlier lessons to visualize some of these volumes\n",
    "\n",
    "dimension1 = np.sum(A, axis = 0)\n",
    "fig = plt.figure()\n",
    "axis0 = fig.add_subplot(121)\n",
    "axis0.imshow(dimension1)\n",
    "plt.show()\n",
    "\n",
    "fig = plt.figure()\n",
    "dimension2 = np.sum(A, axis = 1)\n",
    "axis1 = fig.add_subplot(121)\n",
    "axis1.imshow(dimension2)\n",
    "plt.show()\n",
    "\n",
    "dimension3 = np.sum(A, axis = 2)\n",
    "fig = plt.figure()\n",
    "axis2 = fig.add_subplot(121)\n",
    "axis2.imshow(dimension3)\n",
    "plt.show()"
   ]
  },
  {
   "cell_type": "markdown",
   "metadata": {
    "colab_type": "text",
    "id": "zL4N4XXQV_Au"
   },
   "source": [
    "Here is the Slicer Render slicer image, based on this youtube video:https://www.youtube.com/watch?v=MKLWzD0PiIc\n"
   ]
  },
  {
   "cell_type": "code",
   "execution_count": 12,
   "metadata": {
    "colab": {
     "base_uri": "https://localhost:8080/",
     "height": 269
    },
    "colab_type": "code",
    "id": "QjW6o397Vy0V",
    "outputId": "35597fee-0858-4398-96ce-efde828d6ef1"
   },
   "outputs": [
    {
     "data": {
      "image/png": "[encoded data removed]",
      "text/plain": [
       "<Figure size 432x288 with 1 Axes>"
      ]
     },
     "metadata": {
      "needs_background": "light",
      "tags": []
     },
     "output_type": "display_data"
    }
   ],
   "source": [
    "\n",
    "img=mpimg.imread('slicer_render.png')\n",
    "imgplot = plt.imshow(img)\n",
    "plt.show()"
   ]
  },
  {
   "cell_type": "markdown",
   "metadata": {
    "colab_type": "text",
    "id": "_k4WXX__W2LK"
   },
   "source": [
    "Nibabel supports many imaging formats, NIFTI being just one of them. What format are we dealing with?"
   ]
  },
  {
   "cell_type": "code",
   "execution_count": 13,
   "metadata": {
    "colab": {
     "base_uri": "https://localhost:8080/",
     "height": 781
    },
    "colab_type": "code",
    "id": "o6pSR-6SWx9G",
    "outputId": "f97a190f-0a1b-438d-8348-1408552f58ef"
   },
   "outputs": [
    {
     "name": "stdout",
     "output_type": "stream",
     "text": [
      "<class 'nibabel.nifti1.Nifti1Header'> object, endian='<'\n",
      "sizeof_hdr      : 348\n",
      "data_type       : b''\n",
      "db_name         : b''\n",
      "extents         : 0\n",
      "session_error   : 0\n",
      "regular         : b'r'\n",
      "dim_info        : 0\n",
      "dim             : [ 3 35 51 35  1  1  1  1]\n",
      "intent_p1       : 0.0\n",
      "intent_p2       : 0.0\n",
      "intent_p3       : 0.0\n",
      "intent_code     : none\n",
      "datatype        : uint8\n",
      "bitpix          : 8\n",
      "slice_start     : 0\n",
      "pixdim          : [1. 1. 1. 1. 1. 0. 0. 0.]\n",
      "vox_offset      : 0.0\n",
      "scl_slope       : nan\n",
      "scl_inter       : nan\n",
      "slice_end       : 0\n",
      "slice_code      : unknown\n",
      "xyzt_units      : 10\n",
      "cal_max         : 0.0\n",
      "cal_min         : 0.0\n",
      "slice_duration  : 0.0\n",
      "toffset         : 0.0\n",
      "glmax           : 0\n",
      "glmin           : 0\n",
      "descrip         : b'5.0.10'\n",
      "aux_file        : b'none'\n",
      "qform_code      : scanner\n",
      "sform_code      : scanner\n",
      "quatern_b       : 0.0\n",
      "quatern_c       : 0.0\n",
      "quatern_d       : 0.0\n",
      "qoffset_x       : 1.0\n",
      "qoffset_y       : 1.0\n",
      "qoffset_z       : 1.0\n",
      "srow_x          : [1. 0. 0. 1.]\n",
      "srow_y          : [0. 1. 0. 1.]\n",
      "srow_z          : [0. 0. 1. 1.]\n",
      "intent_name     : b''\n",
      "magic           : b'n+1'\n"
     ]
    }
   ],
   "source": [
    "print(image.header)"
   ]
  },
  {
   "cell_type": "markdown",
   "metadata": {
    "colab_type": "text",
    "id": "VVZpE4w6W9sc"
   },
   "source": [
    "Answering questions based on the above data: \n",
    "\n",
    "---\n",
    "\n",
    "\n",
    "How many bits per pixel are used? 8\n",
    "\n",
    "---\n",
    "\n",
    "\n",
    "What are the units of measurement? xyzt_units\n",
    "\n",
    "---\n",
    "\n",
    "\n",
    "The units of measurement for the first 4 dimensions are specified in the field? 10\n",
    "\n",
    "---\n",
    "\n",
    "\n",
    "Do we have a regular grid? What are grid spacings?\n",
    "The grid spacings are as follows:   [1. 1. 1. 1. 1. 0. 0. 0.]\n",
    "\n",
    "---\n",
    "\n",
    "\n",
    "What dimensions represent axial, sagittal, and coronal slices? How do you know?the affine attribute gives us more information about the affine\n",
    "affine: array-like or None, optional. Affine transform for the data. This is used to determine how the data should be sliced for plotting into the sagittal, coronal, and axial view axes. If None, identity is assumed. The aspect ratio of the data are inferred from the affine transform.\n"
   ]
  },
  {
   "cell_type": "code",
   "execution_count": 15,
   "metadata": {
    "colab": {
     "base_uri": "https://localhost:8080/",
     "height": 104
    },
    "colab_type": "code",
    "id": "E5Jd3vAbW6E2",
    "outputId": "d52849de-f77c-4aa7-e880-b6d746feb62e"
   },
   "outputs": [
    {
     "name": "stdout",
     "output_type": "stream",
     "text": [
      "[[1. 0. 0. 1.]\n",
      " [0. 1. 0. 1.]\n",
      " [0. 0. 1. 1.]\n",
      " [0. 0. 0. 1.]]\n",
      "[1. 1. 1.]\n"
     ]
    }
   ],
   "source": [
    "\n",
    "np.set_printoptions(precision=3, suppress=True)\n",
    "# Print the affine\n",
    "print(image.affine)\n",
    "print(nib.affines.voxel_sizes(label.affine))"
   ]
  },
  {
   "cell_type": "markdown",
   "metadata": {
    "colab_type": "text",
    "id": "LBxQwPS2XyQj"
   },
   "source": [
    "Compute the volume (in mm³) of a hippocampus using one of the labels you've loaded.  You should get a number between ~2200 and ~4500"
   ]
  },
  {
   "cell_type": "markdown",
   "metadata": {
    "colab_type": "text",
    "id": "PWkuhCRTYoCE"
   },
   "source": [
    "The above output checks volume across each dimension. To cumulatively do so for all dimensions:"
   ]
  },
  {
   "cell_type": "code",
   "execution_count": null,
   "metadata": {},
   "outputs": [],
   "source": [
    "volume = 0\n",
    "all_volumes=list()\n",
    "\n",
    "#load slice for every image\n",
    "label_slices = [[f,nib.load(os.path.join(\"/data/TrainingSet/labels/\", f))] \n",
    "                for f in os.listdir(\"/data/TrainingSet/labels/\")]\n",
    "\n",
    "def vol(training_label):\n",
    "    volume = 0\n",
    "    for i in range(training_label.shape[0]):\n",
    "        for j in range(training_label.shape[1]):\n",
    "            for k in range(training_label.shape[2]):\n",
    "                if (training_label[i][j][k]) != 0:\n",
    "                    volume+=1\n",
    "    return volume\n",
    "\n",
    "for i in range(262): #because there are 262 slices\n",
    "    v = vol(label_slices[i][1].get_fdata())\n",
    "    all_volumes.append(v)\n",
    "\n",
    "all_volumes_nonOutlier = np.array([v for v in all_volumes if (v<4500 and v>2200)])"
   ]
  },
  {
   "cell_type": "markdown",
   "metadata": {
    "colab_type": "text",
    "id": "U95YVlqkZ1M1"
   },
   "source": [
    "Plotting a histogram of all all_volumes_nonOutlier in the data "
   ]
  },
  {
   "cell_type": "code",
   "execution_count": 20,
   "metadata": {},
   "outputs": [
    {
     "ename": "IOError",
     "evalue": "[Errno 2] No such file or directory: 'volume.png'",
     "output_type": "error",
     "traceback": [
      "\u001b[0;31m---------------------------------------------------------------------------\u001b[0m",
      "\u001b[0;31mIOError\u001b[0m                                   Traceback (most recent call last)",
      "\u001b[0;32m<ipython-input-20-5f73be096aa4>\u001b[0m in \u001b[0;36m<module>\u001b[0;34m()\u001b[0m\n\u001b[1;32m      1\u001b[0m \u001b[0;32mimport\u001b[0m \u001b[0mmatplotlib\u001b[0m\u001b[0;34m.\u001b[0m\u001b[0mpyplot\u001b[0m \u001b[0;32mas\u001b[0m \u001b[0mplt\u001b[0m\u001b[0;34m\u001b[0m\u001b[0m\n\u001b[1;32m      2\u001b[0m \u001b[0;32mimport\u001b[0m \u001b[0mmatplotlib\u001b[0m\u001b[0;34m.\u001b[0m\u001b[0mimage\u001b[0m \u001b[0;32mas\u001b[0m \u001b[0mmpimg\u001b[0m\u001b[0;34m\u001b[0m\u001b[0m\n\u001b[0;32m----> 3\u001b[0;31m \u001b[0mimg\u001b[0m\u001b[0;34m=\u001b[0m\u001b[0mmpimg\u001b[0m\u001b[0;34m.\u001b[0m\u001b[0mimread\u001b[0m\u001b[0;34m(\u001b[0m\u001b[0;34m'volume.png'\u001b[0m\u001b[0;34m)\u001b[0m\u001b[0;34m\u001b[0m\u001b[0m\n\u001b[0m\u001b[1;32m      4\u001b[0m \u001b[0mimgplot\u001b[0m \u001b[0;34m=\u001b[0m \u001b[0mplt\u001b[0m\u001b[0;34m.\u001b[0m\u001b[0mimshow\u001b[0m\u001b[0;34m(\u001b[0m\u001b[0mimg\u001b[0m\u001b[0;34m)\u001b[0m\u001b[0;34m\u001b[0m\u001b[0m\n\u001b[1;32m      5\u001b[0m \u001b[0mplt\u001b[0m\u001b[0;34m.\u001b[0m\u001b[0mshow\u001b[0m\u001b[0;34m(\u001b[0m\u001b[0;34m)\u001b[0m\u001b[0;34m\u001b[0m\u001b[0m\n",
      "\u001b[0;32m/System/Library/Frameworks/Python.framework/Versions/2.7/Extras/lib/python/matplotlib/image.pyc\u001b[0m in \u001b[0;36mimread\u001b[0;34m(fname, format)\u001b[0m\n\u001b[1;32m   1253\u001b[0m     \u001b[0;31m# tricky in C.\u001b[0m\u001b[0;34m\u001b[0m\u001b[0;34m\u001b[0m\u001b[0m\n\u001b[1;32m   1254\u001b[0m     \u001b[0;32mif\u001b[0m \u001b[0mcbook\u001b[0m\u001b[0;34m.\u001b[0m\u001b[0mis_string_like\u001b[0m\u001b[0;34m(\u001b[0m\u001b[0mfname\u001b[0m\u001b[0;34m)\u001b[0m\u001b[0;34m:\u001b[0m\u001b[0;34m\u001b[0m\u001b[0m\n\u001b[0;32m-> 1255\u001b[0;31m         \u001b[0;32mwith\u001b[0m \u001b[0mopen\u001b[0m\u001b[0;34m(\u001b[0m\u001b[0mfname\u001b[0m\u001b[0;34m,\u001b[0m \u001b[0;34m'rb'\u001b[0m\u001b[0;34m)\u001b[0m \u001b[0;32mas\u001b[0m \u001b[0mfd\u001b[0m\u001b[0;34m:\u001b[0m\u001b[0;34m\u001b[0m\u001b[0m\n\u001b[0m\u001b[1;32m   1256\u001b[0m             \u001b[0;32mreturn\u001b[0m \u001b[0mhandler\u001b[0m\u001b[0;34m(\u001b[0m\u001b[0mfd\u001b[0m\u001b[0;34m)\u001b[0m\u001b[0;34m\u001b[0m\u001b[0m\n\u001b[1;32m   1257\u001b[0m     \u001b[0;32melse\u001b[0m\u001b[0;34m:\u001b[0m\u001b[0;34m\u001b[0m\u001b[0m\n",
      "\u001b[0;31mIOError\u001b[0m: [Errno 2] No such file or directory: 'volume.png'"
     ]
    }
   ],
   "source": [
    "import matplotlib.pyplot as plt\n",
    "import matplotlib.image as mpimg\n",
    "img=mpimg.imread('volume.png')\n",
    "imgplot = plt.imshow(img)\n",
    "plt.show()"
   ]
  },
  {
   "cell_type": "markdown",
   "metadata": {
    "colab_type": "text",
    "id": "AhUTPVQ2YdyQ"
   },
   "source": [
    "\n",
    "OBSERVATIONS: We found that image 118 has no corresponding label mask and hence, we are forced to remove this image from our dataset. \n",
    "Images 010 and 281 have different image and mask dimensions but these can be set. \n"
   ]
  },
  {
   "cell_type": "markdown",
   "metadata": {
    "colab_type": "text",
    "id": "A2YrCJCfauVP"
   },
   "source": [
    "The mask seems to have two classes, labeled with values 1 and 2 respectively. If you visualized sagittal or axial views, you might have gotten a good guess of what those are. Class 1 is the anterior segment of the hippocampus and class 2 is the posterior one."
   ]
  },
  {
   "cell_type": "code",
   "execution_count": 0,
   "metadata": {
    "colab": {},
    "colab_type": "code",
    "id": "yRsV1VmocE9s"
   },
   "outputs": [],
   "source": [
    "def resize_data(data, shape1, shape2, shape3):\n",
    "\tinitial_size_x, initial_size_y, initial_size_z = data.shape[0:3]\n",
    "\n",
    "\tnew_size_x = shape1\n",
    "\tnew_size_y = shape2\n",
    "\tnew_size_z = shape3\n",
    "\n",
    "\tdelta_x = initial_size_x / new_size_x\n",
    "\tdelta_y = initial_size_y / new_size_y\n",
    "\tdelta_z = initial_size_z / new_size_z\n",
    "\n",
    "\tnew_data = np.zeros((new_size_x, new_size_y, new_size_z))\n",
    "\n",
    "\tfor x, y, z in itertools.product(range(new_size_x), range(new_size_y),range(new_size_z)):\n",
    "\t\tnew_data[x][y][z] = data.get_fdata()[int(x * delta_x)][int(y * delta_y)][int(z * delta_z)]\n",
    "\n",
    "\treturn new_data\n"
   ]
  },
  {
   "cell_type": "markdown",
   "metadata": {
    "colab_type": "text",
    "id": "XqPyvlsecnht"
   },
   "source": [
    "The cleaned dataset needs to be set to /output/ folder. We are thus resizing images and for compatibility, corresponging labels."
   ]
  },
  {
   "cell_type": "code",
   "execution_count": 0,
   "metadata": {
    "colab": {},
    "colab_type": "code",
    "id": "L0afjFumciqa"
   },
   "outputs": [],
   "source": [
    "path1 = \"/data/TrainingSet/images/\"\n",
    "path2 = \"/data/TrainingSet/labels/\"\n",
    "lt1 = os.listdir(path1)\n",
    "lt2 = os.listdir(path2)\n",
    "\n",
    "for img in lt1:\n",
    "\tcount = [False, False, False]\n",
    "\tim = nib.load(path1 + img)\n",
    "\tla = nib.load(path2 + img)\n",
    "\tval0 = im.get_fdata().shape[0]\n",
    "\tval1 = im.get_fdata().shape[1]\n",
    "\tval2 = im.get_fdata().shape[2]\n",
    "\tif val0 < 35 or val0 > 71:\n",
    "\t\tnew_val0 = np.clip(val0, 35, 71)\n",
    "\t\tcount[0]=True\n",
    "\tif val1 < 35 or val1 > 71:\n",
    "\t\tnew_val1 = np.clip(val1, 35, 71)\n",
    "\t\tcount[1]=True\n",
    "\tif val2 < 35 or val2 > 71:\n",
    "\t\tnew_val2 = np.clip(val2, 35, 71)\n",
    "\t\tcount[2]=True\n",
    "\tprint(count)\n",
    "\tif count == [False, False, False]:\n",
    "\t\t#image is normal\n",
    "\t\tprint(\"Normal img written\")\n",
    "\t\tos.chdir(\"/output/images/\")\n",
    "\t\tim.to_filename(img)\n",
    "\t\tos.chdir(\"/output/labels/\")\n",
    "\t\tla.to_filename(img)\n",
    "\telif count == [True, False, False]:\n",
    "\t\tnew_img = resize_data(im, new_val0, val1, val2)\n",
    "\t\tnew_lbl = resize_data(la, new_val0, val1, val2)\n",
    "\t\tprint(img + \"resized\")\n",
    "\t\tnibimg = nib.Nifti1Image(new_img, np.eye(4))\n",
    "\t\tos.chdir(\"/output/images/\")\n",
    "\t\tnibimg.to_filename(img)\n",
    "\t\tniblab = nib.Nifti1Image(new_lbl, np.eye(4))\n",
    "\t\tos.chdir(\"/output/labels/\")\n",
    "\t\tniblab.to_filename(img)\n",
    "\t\tdata = nib.load(\"/output/images/\" + img)\n",
    "\t\tprint(data.get_fdata().shape, end=\"\")\n",
    "\t\tdata = nib.load(\"/output/labels/\" + img)\n",
    "\t\tprint(\" : \" + str(data.get_fdata().shape))\n",
    "\telif count == [False, True, False]:\n",
    "\t\tnew_img = resize_data(im, val0, new_val1, val2)\n",
    "\t\tnew_lbl = resize_data(la, val0, new_val1, val2)\n",
    "\t\tprint(img + \"resized\")\n",
    "\t\tnibimg = nib.Nifti1Image(new_img, np.eye(4))\n",
    "\t\tos.chdir(\"/output/images/\")\n",
    "\t\tnibimg.to_filename(img)\n",
    "\t\tniblab = nib.Nifti1Image(new_lbl, np.eye(4))\n",
    "\t\tos.chdir(\"/output/labels/\")\n",
    "\t\tniblab.to_filename(img)\n",
    "\t\tdata = nib.load(\"/output/images/\" + img)\n",
    "\t\tprint(data.get_fdata().shape, end=\"\")\n",
    "\t\tdata = nib.load(\"/output/labels/\" + img)\n",
    "\t\tprint(\" : \" + str(data.get_fdata().shape))\n",
    "\telif count == [False, False, True]:\n",
    "\t\tnew_img = resize_data(im, val0, val1, new_val2)\n",
    "\t\tnew_lbl = resize_data(la, val0, val1, new_val2)\n",
    "\t\tprint(img + \"resized\")\n",
    "\t\tnibimg = nib.Nifti1Image(new_img, np.eye(4))\n",
    "\t\tos.chdir(\"/output/images/\")\n",
    "\t\tnibimg.to_filename(img)\n",
    "\t\tniblab = nib.Nifti1Image(new_lbl, np.eye(4))\n",
    "\t\tos.chdir(\"/output/labels/\")\n",
    "\t\tniblab.to_filename(img)\n",
    "\t\tdata = nib.load(\"/output/images/\" + img)\n",
    "\t\tprint(data.get_fdata().shape, end=\"\")\n",
    "\t\tdata = nib.load(\"/output/labels/\" + img)\n",
    "\t\tprint(\" : \" + str(data.get_fdata().shape))\n",
    "\telif count == [True, True, False]:\n",
    "\t\tnew_img = resize_data(im, new_val0, new_val1, val2)\n",
    "\t\tnew_lbl = resize_data(la, new_val0, new_val1, val2)\n",
    "\t\tprint(img + \"resized\")\n",
    "\t\tnibimg = nib.Nifti1Image(new_img, np.eye(4))\n",
    "\t\tos.chdir(\"/output/images/\")\n",
    "\t\tnibimg.to_filename(img)\n",
    "\t\tniblab = nib.Nifti1Image(new_lbl, np.eye(4))\n",
    "\t\tos.chdir(\"/output/labels/\")\n",
    "\t\tniblab.to_filename(img)\n",
    "\t\tdata = nib.load(\"/output/images/\" + img)\n",
    "\t\tprint(data.get_fdata().shape, end=\"\")\n",
    "\t\tdata = nib.load(\"/output/labels/\" + img)\n",
    "\t\tprint(\" : \" + str(data.get_fdata().shape))\n",
    "\telif count == [True, False, True]:\n",
    "\t\tnew_img = resize_data(im, new_val0, val1, new_val2)\n",
    "\t\tnew_lbl = resize_data(la, new_val0, val1, new_val2)\n",
    "\t\tprint(img + \"resized\")\n",
    "\t\tnibimg = nib.Nifti1Image(new_img, np.eye(4))\n",
    "\t\tos.chdir(\"/output/images/\")\n",
    "\t\tnibimg.to_filename(img)\n",
    "\t\tniblab = nib.Nifti1Image(new_lbl, np.eye(4))\n",
    "\t\tos.chdir(\"/output/labels/\")\n",
    "\t\tniblab.to_filename(img)\n",
    "\t\tdata = nib.load(\"/output/images/\" + img)\n",
    "\t\tprint(data.get_fdata().shape, end=\"\")\n",
    "\t\tdata = nib.load(\"/output/labels/\" + img)\n",
    "\t\tprint(\" : \" + str(data.get_fdata().shape))\n",
    "\telif count == [False, True, True]:\n",
    "\t\tnew_img = resize_data(im, val0, new_val1, new_val2)\n",
    "\t\tnew_lbl = resize_data(la, val0, new_val1, new_val2)\n",
    "\t\tprint(img + \"resized\")\n",
    "\t\tnibimg = nib.Nifti1Image(new_img, np.eye(4))\n",
    "\t\tos.chdir(\"/output/images/\")\n",
    "\t\tnibimg.to_filename(img)\n",
    "\t\tniblab = nib.Nifti1Image(new_lbl, np.eye(4))\n",
    "\t\tos.chdir(\"/output/labels/\")\n",
    "\t\tniblab.to_filename(img)\n",
    "\t\tdata = nib.load(\"/output/images/\" + img)\n",
    "\t\tprint(data.get_fdata().shape, end=\"\")\n",
    "\t\tdata = nib.load(\"/output/labels/\" + img)\n",
    "\t\tprint(\" : \" + str(data.get_fdata().shape))\n",
    "\telif count == [True, True, True]:\n",
    "\t\tnew_img = resize_data(im, new_val0, new_val1, new_val2)\n",
    "\t\tnew_lbl = resize_data(la, new_val0, new_val1, new_val2)\n",
    "\t\tprint(img + \"resized\")\n",
    "\t\tnibimg = nib.Nifti1Image(new_img, np.eye(4))\n",
    "\t\tos.chdir(\"/output/images/\")\n",
    "\t\tnibimg.to_filename(img)\n",
    "\t\tniblab = nib.Nifti1Image(new_lbl, np.eye(4))\n",
    "\t\tos.chdir(\"/output/labels/\")\n",
    "\t\tniblab.to_filename(img)\n",
    "\t\tdata = nib.load(\"/output/images/\" + img)\n",
    "\t\tprint(data.get_fdata().shape, end=\"\")\n",
    "\t\tdata = nib.load(\"/output/labels/\" + img)\n",
    "\t\tprint(\" : \" + str(data.get_fdata().shape))"
   ]
  },
  {
   "cell_type": "markdown",
   "metadata": {
    "colab_type": "text",
    "id": "ItG5KMlrdjP8"
   },
   "source": [
    "The /output/ is now ready for use by RecursiveUNet model. "
   ]
  }
 ],
 "metadata": {
  "colab": {
   "authorship_tag": "ABX9TyPKGSlzQOelmiwvQJLUnLR3",
   "collapsed_sections": [],
   "name": "Untitled9.ipynb",
   "provenance": [],
   "toc_visible": true
  },
  "kernelspec": {
   "display_name": "Python 2",
   "language": "python",
   "name": "python2"
  },
  "language_info": {
   "codemirror_mode": {
    "name": "ipython",
    "version": 2
   },
   "file_extension": ".py",
   "mimetype": "text/x-python",
   "name": "python",
   "nbconvert_exporter": "python",
   "pygments_lexer": "ipython2",
   "version": "2.7.16"
  }
 },
 "nbformat": 4,
 "nbformat_minor": 1
}
