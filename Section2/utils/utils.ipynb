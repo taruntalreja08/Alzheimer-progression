{
  "nbformat": 4,
  "nbformat_minor": 0,
  "metadata": {
    "colab": {
      "name": "Untitled9.ipynb",
      "provenance": [],
      "collapsed_sections": [],
      "toc_visible": true,
      "authorship_tag": "ABX9TyMkcB59shbZ7X6hadZyDskk"
    },
    "kernelspec": {
      "name": "python3",
      "display_name": "Python 3"
    }
  },
  "cells": [
    {
      "cell_type": "markdown",
      "metadata": {
        "id": "l4bVdD4qOAvo",
        "colab_type": "text"
      },
      "source": [
        "# Classification of Alzheimer's Diseases using Quantification of HippoCampal Volume\n",
        "\n",
        "### Exploratory Data Analysis - Section 2 - Utility functions\n",
        "\n",
        "This task involves building recursive UNet model, training, logging and testing. "
      ]
    },
    {
      "cell_type": "code",
      "metadata": {
        "id": "g08K4QTqjIuR",
        "colab_type": "code",
        "colab": {}
      },
      "source": [
        "import numpy as np\n",
        "import matplotlib.pyplot as plt\n",
        "import torch\n",
        "from PIL import Image"
      ],
      "execution_count": 0,
      "outputs": []
    },
    {
      "cell_type": "code",
      "metadata": {
        "id": "aodxtbjcjNJm",
        "colab_type": "code",
        "colab": {}
      },
      "source": [
        "def mpl_image_grid(images):\n",
        "    \"\"\"\n",
        "    Create an image grid from an array of images. Show up to 16 images in one figure\n",
        "\n",
        "    Arguments:\n",
        "        image {Torch tensor} -- NxWxH array of images\n",
        "\n",
        "    Returns:\n",
        "        Matplotlib figure\n",
        "    \"\"\"\n",
        "    # Create a figure to contain the plot.\n",
        "    n = min(images.shape[0], 16) # no more than 16 thumbnails\n",
        "    rows = 4\n",
        "    cols = (n // 4) + (1 if (n % 4) != 0 else 0)\n",
        "    figure = plt.figure(figsize=(2*rows, 2*cols))\n",
        "    plt.subplots_adjust(0, 0, 1, 1, 0.001, 0.001)\n",
        "    for i in range(n):\n",
        "        # Start next subplot.\n",
        "        plt.subplot(cols, rows, i + 1)\n",
        "        plt.xticks([])\n",
        "        plt.yticks([])\n",
        "        plt.grid(False)\n",
        "        if images.shape[1] == 3:\n",
        "            # this is specifically for 3 softmax'd classes with 0 being bg\n",
        "            # We are building a probability map from our three classes using \n",
        "            # fractional probabilities contained in the mask\n",
        "            vol = images[i].detach().numpy()\n",
        "            img = [[[(1-vol[0,x,y])*vol[1,x,y], (1-vol[0,x,y])*vol[2,x,y], 0] \\\n",
        "                            for y in range(vol.shape[2])] \\\n",
        "                            for x in range(vol.shape[1])]\n",
        "            plt.imshow(img)\n",
        "        else: # plotting only 1st channel\n",
        "            plt.imshow((images[i, 0]*255).int(), cmap= \"gray\")\n",
        "\n",
        "    return figure\n"
      ],
      "execution_count": 0,
      "outputs": []
    },
    {
      "cell_type": "markdown",
      "metadata": {
        "id": "8gg73tCkqB0G",
        "colab_type": "text"
      },
      "source": [
        "The following function logs to tensorboard. \n",
        "To run: launch tensorboard from /Section2/ as \n",
        "```\n",
        "tensorboard --logdir runs --bind_all\n",
        "```\n",
        "It will run on the default port 6006. "
      ]
    },
    {
      "cell_type": "code",
      "metadata": {
        "id": "iAt1ptsyp9gn",
        "colab_type": "code",
        "colab": {}
      },
      "source": [
        "def log_to_tensorboard(writer, loss, data, target, prediction_softmax, prediction, counter):\n",
        "    \"\"\"Logs data to Tensorboard\n",
        "\n",
        "    Arguments:\n",
        "        writer {SummaryWriter} -- PyTorch Tensorboard wrapper to use for logging\n",
        "        loss {float} -- loss\n",
        "        data {tensor} -- image data\n",
        "        target {tensor} -- ground truth label\n",
        "        prediction_softmax {tensor} -- softmax'd prediction\n",
        "        prediction {tensor} -- raw prediction (to be used in argmax)\n",
        "        counter {int} -- batch and epoch counter\n",
        "    \"\"\"\n",
        "    writer.add_scalar(\"Loss\",\\\n",
        "                    loss, counter)\n",
        "    writer.add_figure(\"Image Data\",\\\n",
        "        mpl_image_grid(data.float().cpu()), global_step=counter)\n",
        "    writer.add_figure(\"Mask\",\\\n",
        "        mpl_image_grid(target.float().cpu()), global_step=counter)\n",
        "    writer.add_figure(\"Probability map\",\\\n",
        "        mpl_image_grid(prediction_softmax.cpu()), global_step=counter)\n",
        "    writer.add_figure(\"Prediction\",\\\n",
        "        mpl_image_grid(torch.argmax(prediction.cpu(), dim=1, keepdim=True)), global_step=counter)\n"
      ],
      "execution_count": 0,
      "outputs": []
    },
    {
      "cell_type": "code",
      "metadata": {
        "id": "YJ9scEsaqZT_",
        "colab_type": "code",
        "colab": {}
      },
      "source": [
        "\n",
        "def save_numpy_as_image(arr, path):\n",
        "    \"\"\"\n",
        "    This saves image (2D array) as a file using matplotlib\n",
        "\n",
        "    Arguments:\n",
        "        arr {array} -- 2D array of pixels\n",
        "        path {string} -- path to file\n",
        "    \"\"\"\n",
        "    plt.imshow(arr, cmap=\"gray\") #Needs to be in row,col order\n",
        "    plt.savefig(path)\n",
        "\n"
      ],
      "execution_count": 0,
      "outputs": []
    },
    {
      "cell_type": "code",
      "metadata": {
        "id": "nLYFXwsYqcJ-",
        "colab_type": "code",
        "colab": {}
      },
      "source": [
        "def med_reshape(image, new_shape):\n",
        "    \"\"\"\n",
        "    This function reshapes 3D data to new dimension padding with zeros\n",
        "    and leaving the content in the top-left corner\n",
        "\n",
        "    Arguments:\n",
        "        image {array} -- 3D array of pixel data\n",
        "        new_shape {3-tuple} -- expected output shape\n",
        "\n",
        "    Returns:\n",
        "        3D array of desired shape, padded with zeroes\n",
        "    \"\"\"\n",
        "\n",
        "    reshaped_image = np.zeros(new_shape)\n",
        "\n",
        "    # write your original image into the reshaped image\n",
        "    # convert to image to tensor and reshape. Convert back to numpy array and return. \n",
        "    # NOTE: You can also reshape numpy array directly. \n",
        "    reshaped_image = torch.Tensor(reshaped_image)\n",
        "    reshaped_image = reshaped_image.reshape(new_shape)\n",
        "    \n",
        "    return np.asarray(reshaped_image)\n"
      ],
      "execution_count": 0,
      "outputs": []
    }
  ]
}
