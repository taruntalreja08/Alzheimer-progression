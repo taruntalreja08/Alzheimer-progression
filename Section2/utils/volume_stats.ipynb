{
 "cells": [
  {
   "cell_type": "markdown",
   "metadata": {
    "colab_type": "text",
    "id": "l4bVdD4qOAvo"
   },
   "source": [
    "# Classification of Alzheimer's Diseases using Quantification of HippoCampal Volume\n",
    "\n",
    "### Exploratory Data Analysis - Section 2 - Utility functions\n",
    "\n",
    "This task involves building recursive UNet model, training, logging and testing. "
   ]
  },
  {
   "cell_type": "code",
   "execution_count": 0,
   "metadata": {
    "colab": {},
    "colab_type": "code",
    "id": "g08K4QTqjIuR"
   },
   "outputs": [],
   "source": [
    "import numpy as np\n",
    "from sklearn.metrics import jaccard_similarity_score as jsc"
   ]
  },
  {
   "cell_type": "markdown",
   "metadata": {
    "colab_type": "text",
    "id": "eiCYVFxLrEcd"
   },
   "source": [
    "This module contains various functions for computing statistics over 3D volumes"
   ]
  },
  {
   "cell_type": "code",
   "execution_count": 0,
   "metadata": {
    "colab": {},
    "colab_type": "code",
    "id": "nLYFXwsYqcJ-"
   },
   "outputs": [],
   "source": [
    "def Dice3d(a, b):\n",
    "    \"\"\"\n",
    "    This will compute the Dice Similarity coefficient for two 3-dimensional volumes\n",
    "    Volumes are expected to be of the same size. We are expecting binary masks -\n",
    "    0's are treated as background and anything else is counted as data\n",
    "\n",
    "    Arguments:\n",
    "        a {Numpy array} -- 3D array with first volume\n",
    "        b {Numpy array} -- 3D array with second volume\n",
    "\n",
    "    Returns:\n",
    "        float\n",
    "    \"\"\"\n",
    "    if len(a.shape) != 3 or len(b.shape) != 3:\n",
    "        raise Exception(f\"Expecting 3 dimensional inputs, got {a.shape} and {b.shape}\")\n",
    "\n",
    "    if a.shape != b.shape:\n",
    "        raise Exception(f\"Expecting inputs of the same shape, got {a.shape} and {b.shape}\")\n",
    "\n",
    "    # not the most efficient implementation, consider counting TP, FP, FN explicitly\n",
    "    intersection = sum([1 if (a[x, y, z] != 0 and b[x, y, z] != 0) else 0 for x in range(a.shape[0]) for y in range(a.shape[1]) for z in range(a.shape[2])])\n",
    "    volumes = sum(np.ones(a[a != 0].shape)) + sum(np.ones(b[b != 0].shape))\n",
    "\n",
    "    if volumes == 0:\n",
    "        return -1\n",
    "\n",
    "    return 2.*float(intersection) / float(volumes)\n"
   ]
  },
  {
   "cell_type": "markdown",
   "metadata": {
    "colab_type": "text",
    "id": "aUYLq2fcrM8f"
   },
   "source": [
    "For explanation of dice scores refer to standout.pdf of Section 2"
   ]
  },
  {
   "cell_type": "code",
   "execution_count": 0,
   "metadata": {
    "colab": {},
    "colab_type": "code",
    "id": "CHB866_yrTQI"
   },
   "outputs": [],
   "source": [
    "def Jaccard3d(a, b):\n",
    "    \"\"\"\n",
    "    This will compute the Jaccard Similarity coefficient for two 3-dimensional volumes\n",
    "    Volumes are expected to be of the same size. We are expecting binary masks - \n",
    "    0's are treated as background and anything else is counted as data\n",
    "\n",
    "    Arguments:\n",
    "        a {Numpy array} -- 3D array with first volume\n",
    "        b {Numpy array} -- 3D array with second volume\n",
    "\n",
    "    Returns:\n",
    "        float\n",
    "    \"\"\"\n",
    "    if len(a.shape) != 3 or len(b.shape) != 3:\n",
    "        raise Exception(f\"Expecting 3 dimensional inputs, got {a.shape} and {b.shape}\")\n",
    "\n",
    "    if a.shape != b.shape:\n",
    "        raise Exception(f\"Expecting inputs of the same shape, got {a.shape} and {b.shape}\")\n",
    "\n",
    "    # Write implementation of Jaccard similarity coefficient. Please do not use \n",
    "    # the Dice3d function from above to do the computation ;)\n",
    "    s1 = set(a)\n",
    "    s2 = set(b)\n",
    "    return len(s1.intersection(s2)) / len(s1.union(s2))"
   ]
  },
  {
   "cell_type": "markdown",
   "metadata": {
    "colab_type": "text",
    "id": "d2Lm93uwrbxA"
   },
   "source": [
    "For implementation of jaccard similarity coefficient and other details, look through standout.pdf from Section2"
   ]
  }
 ],
 "metadata": {
  "colab": {
   "authorship_tag": "ABX9TyNJS2Vd9LFLdE5suKGSW4ql",
   "collapsed_sections": [],
   "name": "Untitled9.ipynb",
   "provenance": [],
   "toc_visible": true
  },
  "kernelspec": {
   "display_name": "Python 3",
   "language": "python",
   "name": "python3"
  },
  "language_info": {
   "codemirror_mode": {
    "name": "ipython",
    "version": 3
   },
   "file_extension": ".py",
   "mimetype": "text/x-python",
   "name": "python",
   "nbconvert_exporter": "python",
   "pygments_lexer": "ipython3",
   "version": "3.6.8"
  }
 },
 "nbformat": 4,
 "nbformat_minor": 1
}
