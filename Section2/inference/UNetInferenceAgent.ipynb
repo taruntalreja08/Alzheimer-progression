{
  "nbformat": 4,
  "nbformat_minor": 0,
  "metadata": {
    "colab": {
      "name": "Untitled9.ipynb",
      "provenance": [],
      "collapsed_sections": [],
      "toc_visible": true,
      "authorship_tag": "ABX9TyMN+JMGObveqgekf8l2Z8pR"
    },
    "kernelspec": {
      "name": "python3",
      "display_name": "Python 3"
    }
  },
  "cells": [
    {
      "cell_type": "markdown",
      "metadata": {
        "id": "l4bVdD4qOAvo",
        "colab_type": "text"
      },
      "source": [
        "# Classification of Alzheimer's Diseases using Quantification of HippoCampal Volume\n",
        "\n",
        "### Exploratory Data Analysis - Section 2 - UNetInferenceAgent\n",
        "\n",
        "This task involves building recursive UNet model, training, logging and testing. "
      ]
    },
    {
      "cell_type": "code",
      "metadata": {
        "id": "g08K4QTqjIuR",
        "colab_type": "code",
        "colab": {}
      },
      "source": [
        "import torch\n",
        "import numpy as np\n",
        "\n",
        "from networks.RecursiveUNet import UNet\n",
        "\n",
        "from utils.utils import med_reshape"
      ],
      "execution_count": 0,
      "outputs": []
    },
    {
      "cell_type": "markdown",
      "metadata": {
        "id": "AbldBKXNjQLG",
        "colab_type": "text"
      },
      "source": [
        "This module stores the UNet module and handles inferencing tasks"
      ]
    },
    {
      "cell_type": "code",
      "metadata": {
        "id": "aodxtbjcjNJm",
        "colab_type": "code",
        "colab": {}
      },
      "source": [
        "class UNetInferenceAgent:\n",
        "    \"\"\"\n",
        "    Stores model and parameters and some methods to handle inferencing\n",
        "    \"\"\"\n",
        "    def __init__(self, parameter_file_path='', model=None, device=\"cpu\", patch_size=64):\n",
        "\n",
        "        self.model = model\n",
        "        self.patch_size = patch_size\n",
        "        self.device = device\n",
        "\n",
        "        if model is None:\n",
        "            self.model = UNet(num_classes=3)\n",
        "\n",
        "        if parameter_file_path:\n",
        "            self.model.load_state_dict(torch.load(parameter_file_path, map_location=self.device))\n",
        "\n",
        "        self.model.to(device)\n",
        "\n",
        "    def single_volume_inference(self, volume):\n",
        "        \"\"\"\n",
        "        Runs inference on a single volume of conformant patch size\n",
        "\n",
        "        Arguments:\n",
        "            volume {Numpy array} -- 3D array representing the volume\n",
        "\n",
        "        Returns:\n",
        "            3D NumPy array with prediction mask\n",
        "        \"\"\"\n",
        "        self.model.eval()\n",
        "\n",
        "        # Assuming volume is a numpy array of shape [X,Y,Z] and we need to slice X axis\n",
        "        slices = []\n",
        "\n",
        "        # Write code that will create mask for each slice across the X (0th) dimension. After \n",
        "        # that, put all slices into a 3D Numpy array. You can verify if your method is \n",
        "        # correct by running it on one of the volumes in your training set and comparing \n",
        "        # with the label in 3D Slicer.\n",
        "        \"\"\"\n",
        "        Screenshots from the 3D slicer can be seen in the /Section1/eda.ipynb file.\n",
        "        \"\"\"\n",
        "        slices.append(volume[0:1])\n",
        "        masks = np.zeros(volume.shape, dtype=np.float32) \n",
        "        for idx, label in enumerate(labels.values):\n",
        "            if label is not np.nan:\n",
        "                label = label.split(\" \")\n",
        "                positions = map(int, label[0::2])\n",
        "                length = map(int, label[1::2])\n",
        "                mask = np.zeros(volume.shape[1] * volume.shape[2], dtype=np.uint8)\n",
        "                for pos, le in zip(positions, length):\n",
        "                    mask[pos:(pos + le)] = 1\n",
        "                masks[:, :, idx] = mask.reshape(volume.shape[1], volume.shape[1], order='F')\n",
        "        slices = slices.asarray()\n",
        "        slices.reshape((-1, slices.shape[0], slices.shape[1]))\n",
        "        return slices\n",
        "        "
      ],
      "execution_count": 0,
      "outputs": []
    }
  ]
}
