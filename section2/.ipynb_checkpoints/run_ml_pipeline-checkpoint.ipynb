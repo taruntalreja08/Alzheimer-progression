{
 "cells": [
  {
   "cell_type": "markdown",
   "metadata": {
    "colab_type": "text",
    "id": "l4bVdD4qOAvo"
   },
   "source": [
    "# Classification of Alzheimer's Diseases using Quantification of HippoCampal Volume\n",
    "\n",
    "### Exploratory Data Analysis - Section 2 - Main\n",
    "\n",
    "This task involves building recursive UNet model, training, logging and testing. "
   ]
  },
  {
   "cell_type": "code",
   "execution_count": 0,
   "metadata": {
    "colab": {},
    "colab_type": "code",
    "id": "g08K4QTqjIuR"
   },
   "outputs": [],
   "source": [
    "import os\n",
    "import json\n",
    "import torch \n",
    "import numpy as np\n",
    "from experiments.UNetExperiment import UNetExperiment\n",
    "from data_prep.HippocampusDatasetLoader import LoadHippocampusData"
   ]
  },
  {
   "cell_type": "markdown",
   "metadata": {
    "colab_type": "text",
    "id": "eiCYVFxLrEcd"
   },
   "source": [
    "This module contains code to fire training and testing procedures"
   ]
  },
  {
   "cell_type": "code",
   "execution_count": 0,
   "metadata": {
    "colab": {},
    "colab_type": "code",
    "id": "nLYFXwsYqcJ-"
   },
   "outputs": [],
   "source": [
    "class Config:\n",
    "    \"\"\"\n",
    "    Holds configuration parameters\n",
    "    \"\"\"\n",
    "    def __init__(self):\n",
    "        self.name = \"Basic_unet\"\n",
    "        self.root_dir = \"/AlzheimerQuantification/\"\n",
    "        self.n_epochs = 10\n",
    "        self.learning_rate = 0.0002\n",
    "        self.batch_size = 8\n",
    "        self.patch_size = 64\n",
    "        self.test_results_dir =  \"/AlzheimerQuantification/results/\"\n",
    "\n"
   ]
  },
  {
   "cell_type": "code",
   "execution_count": 41,
   "metadata": {
    "colab": {
     "base_uri": "https://localhost:8080/",
     "height": 34
    },
    "colab_type": "code",
    "id": "CHB866_yrTQI",
    "outputId": "a652f81c-962c-4243-dd50-68d33b121c59"
   },
   "outputs": [
    {
     "name": "stdout",
     "output_type": "stream",
     "text": [
      "Loading data...\n"
     ]
    }
   ],
   "source": [
    "if __name__ == \"__main__\":\n",
    "    # Get configuration\n",
    "\n",
    "    # TASK: Fill in parameters of the Config class and specify directory where the data is stored and \n",
    "    # directory where results will go\n",
    "    c = Config()\n",
    "\n",
    "    # Load data\n",
    "    print(\"Loading data...\")\n",
    "\n",
    "    # LoadHippocampusData is not complete. Go to the implementation and complete it. \n",
    "    \n",
    "    data = LoadHippocampusData(c.root_dir, y_shape = c.patch_size, z_shape = c.patch_size)\n",
    "\n",
    "    # Create test-train-val split\n",
    "    # In a real world scenario you would probably do multiple splits for \n",
    "    # multi-fold training to improve your model quality\n",
    "\n",
    "    keys = range(262)\n",
    "\n",
    "    # Here, random permutation of keys array would be useful in case if we do something like \n",
    "    # a k-fold training and combining the results. \n",
    "\n",
    "    split = dict()\n",
    "\n",
    "    # TASK: create three keys in the dictionary: \"train\", \"val\" and \"test\". In each key, store\n",
    "    # the array with indices of training volumes.\n",
    "    # <YOUR CODE GOES HERE>\n",
    "    s = int(np.floor(0.1 * 184))\n",
    "    train_idx, valid_idx, test_idx = keys[0:184], keys[184:236], keys[236:]\n",
    "    split[\"train\"] = keys[0:184]\n",
    "    split[\"val\"] = keys[184:236]\n",
    "    split[\"test\"] = keys[236:]\n",
    " \n",
    "    # Set up and run experiment\n",
    "    \n",
    "    # Class UNetExperiment has missing pieces. Go to the file and fill them in\n",
    "    exp = UNetExperiment(c, split, data)\n",
    "\n",
    "    # You could free up memory by deleting the dataset\n",
    "    # as it has been copied into loaders\n",
    "    # del dataset \n",
    "\n",
    "    # run training\n",
    "    exp.run()\n",
    "\n",
    "    # prep and run testing\n",
    "\n",
    "    # TASK: Test method is not complete. Go to the method and complete it\n",
    "    results_json = exp.run_test()\n",
    "\n",
    "    results_json[\"config\"] = vars(c)\n",
    "\n",
    "    with open(os.path.join(exp.out_dir, \"results.json\"), 'w') as out_file:\n",
    "        json.dump(results_json, out_file, indent=2, separators=(',', ': '))\n"
   ]
  }
 ],
 "metadata": {
  "colab": {
   "authorship_tag": "ABX9TyOlG7jxLgsXxwriPqFdkqKn",
   "collapsed_sections": [],
   "name": "Untitled9.ipynb",
   "provenance": [],
   "toc_visible": true
  },
  "kernelspec": {
   "display_name": "Python 2",
   "language": "python",
   "name": "python2"
  },
  "language_info": {
   "codemirror_mode": {
    "name": "ipython",
    "version": 2
   },
   "file_extension": ".py",
   "mimetype": "text/x-python",
   "name": "python",
   "nbconvert_exporter": "python",
   "pygments_lexer": "ipython2",
   "version": "2.7.16"
  }
 },
 "nbformat": 4,
 "nbformat_minor": 1
}
